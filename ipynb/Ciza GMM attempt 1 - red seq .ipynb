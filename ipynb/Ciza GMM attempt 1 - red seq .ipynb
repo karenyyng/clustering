{
 "metadata": {
  "name": "",
  "signature": "sha256:e4de7b1a19ae709f2e76df47914b02538b6e3e1143cad88305c7baa931a71a2b"
 },
 "nbformat": 3,
 "nbformat_minor": 0,
 "worksheets": [
  {
   "cells": [
    {
     "cell_type": "code",
     "collapsed": false,
     "input": [
      "%autosave 60\n",
      "%matplotlib inline"
     ],
     "language": "python",
     "metadata": {},
     "outputs": [
      {
       "javascript": [
        "IPython.notebook.set_autosave_interval(60000)"
       ],
       "metadata": {},
       "output_type": "display_data"
      },
      {
       "output_type": "stream",
       "stream": "stdout",
       "text": [
        "Autosaving every 60 seconds\n"
       ]
      }
     ],
     "prompt_number": 1
    },
    {
     "cell_type": "code",
     "collapsed": false,
     "input": [
      "import pandas as pd\n",
      "import matplotlib.pyplot as plt\n",
      "import matplotlib as mpl\n",
      "from sklearn.mixture import GMM \n",
      "import itertools\n",
      "from scipy import linalg"
     ],
     "language": "python",
     "metadata": {},
     "outputs": [],
     "prompt_number": 2
    },
    {
     "cell_type": "markdown",
     "metadata": {},
     "source": [
      "Want to get an idea of what the data set is about"
     ]
    },
    {
     "cell_type": "code",
     "collapsed": false,
     "input": [
      "red_cat = pd.read_hdf(\"../data/processed_Ciza.h5\", \n",
      "                      \"RedsequenceSelection\")"
     ],
     "language": "python",
     "metadata": {},
     "outputs": [
      {
       "output_type": "stream",
       "stream": "stderr",
       "text": [
        "/opt/local/Library/Frameworks/Python.framework/Versions/2.7/lib/python2.7/site-packages/pandas/io/pytables.py:533: DeprecationWarning: openFile() is pending deprecation, use open_file() instead. You may use the pt2to3 tool to update your source code.\n",
        "  self._handle = tables.openFile(self._path, self._mode, **kwargs)\n",
        "/opt/local/Library/Frameworks/Python.framework/Versions/2.7/lib/python2.7/site-packages/pandas/io/pytables.py:1041: DeprecationWarning: getNode() is pending deprecation, use get_node() instead. You may use the pt2to3 tool to update your source code.\n",
        "  return self._handle.getNode(self.root, key)\n"
       ]
      }
     ],
     "prompt_number": 3
    },
    {
     "cell_type": "code",
     "collapsed": false,
     "input": [
      "red_cat.columns"
     ],
     "language": "python",
     "metadata": {},
     "outputs": [
      {
       "metadata": {},
       "output_type": "pyout",
       "prompt_number": 4,
       "text": [
        "Index([u'NUMBER', u'alpha', u'delta', u'x_image', u'y_image', u'A_IMAGE_g', u'B_IMAGE_g', u'THETA_IMAGE_g', u'FWHM_IMAGE_g', u'g_iso', u'g_iso_err', u'g_aper', u'g_aper_err', u'g_auto', u'g_auto_err', u'BACKGROUND_g', u'FLUX_RADIUS_g', u'FLAGS_g', u'CLASS_STARR_g', u'A_IMAGE_r', u'B_IMAGE_r', u'THETA_IMAGE_r', u'FWHM_IMAGE_r', u'r_iso', u'r_iso_err', u'r_aper', u'r_aper_err', u'r_auto', u'r_auto_err', u'BACKGROUND_r', u'FLUX_RADIUS_r', u'FLAGS_r', u'CLASS_STARR_r', u'A_IMAGE_i', u'B_IMAGE_i', u'THETA_IMAGE_i', u'FWHM_IMAGE_i', u'i_iso', u'i_iso_err', u'i_aper', u'i_aper_err', u'i_auto', u'i_auto_err', u'BACKGROUND_i', u'FLUX_RADIUS_i', u'FLAGS_i', u'CLASS_STARR_i', u'specid', u'target_objid', u'z', u'zerr', u'quality', u'mask', u'slit', u'which_trace', u'ra_trace', u'dec_trace', u'matchdelta', u'phot_mask', u'z_mem_mask', u'g-i_iso', u'g-r_iso', u'r-i_iso', u'g-i_aper', u'g-r_aper', u'r-i_aper', u'g-i_auto', u'g-r_auto', u'r-i_auto', u'z_mask', u'spec_non_mem_mask'], dtype='object')"
       ]
      }
     ],
     "prompt_number": 4
    },
    {
     "cell_type": "markdown",
     "metadata": {},
     "source": [
      "Let's try the GMM with a small number of variables first ... namely "
     ]
    },
    {
     "cell_type": "code",
     "collapsed": false,
     "input": [
      "var = [\"x_image\", \"y_image\", \"g-i_iso\", \"r-i_iso\", \"g-r_iso\"] # , \"z\"]"
     ],
     "language": "python",
     "metadata": {},
     "outputs": [],
     "prompt_number": 5
    },
    {
     "cell_type": "code",
     "collapsed": false,
     "input": [
      "#z_cat = red_cat[red_cat[\"z_mask\"]]"
     ],
     "language": "python",
     "metadata": {},
     "outputs": [],
     "prompt_number": 6
    },
    {
     "cell_type": "code",
     "collapsed": false,
     "input": [
      "red_cat[var][red_cat[\"phot_mask\"]].describe()"
     ],
     "language": "python",
     "metadata": {},
     "outputs": [
      {
       "html": [
        "<div style=\"max-height:1000px;max-width:1500px;overflow:auto;\">\n",
        "<table border=\"1\" class=\"dataframe\">\n",
        "  <thead>\n",
        "    <tr style=\"text-align: right;\">\n",
        "      <th></th>\n",
        "      <th>x_image</th>\n",
        "      <th>y_image</th>\n",
        "      <th>g-i_iso</th>\n",
        "      <th>r-i_iso</th>\n",
        "      <th>g-r_iso</th>\n",
        "    </tr>\n",
        "  </thead>\n",
        "  <tbody>\n",
        "    <tr>\n",
        "      <th>count</th>\n",
        "      <td>  2373.000000</td>\n",
        "      <td>  2373.000000</td>\n",
        "      <td> 2373.000000</td>\n",
        "      <td> 2373.000000</td>\n",
        "      <td> 2373.000000</td>\n",
        "    </tr>\n",
        "    <tr>\n",
        "      <th>mean</th>\n",
        "      <td>  7479.150700</td>\n",
        "      <td>  7349.826755</td>\n",
        "      <td>    1.320496</td>\n",
        "      <td>    0.173442</td>\n",
        "      <td>    1.147055</td>\n",
        "    </tr>\n",
        "    <tr>\n",
        "      <th>std</th>\n",
        "      <td>  1927.508982</td>\n",
        "      <td>  2103.665721</td>\n",
        "      <td>    0.434924</td>\n",
        "      <td>    0.349391</td>\n",
        "      <td>    0.441805</td>\n",
        "    </tr>\n",
        "    <tr>\n",
        "      <th>min</th>\n",
        "      <td>  3071.970000</td>\n",
        "      <td>  2943.380000</td>\n",
        "      <td>   -0.677800</td>\n",
        "      <td>   -5.408700</td>\n",
        "      <td>   -1.732600</td>\n",
        "    </tr>\n",
        "    <tr>\n",
        "      <th>25%</th>\n",
        "      <td>  6238.200000</td>\n",
        "      <td>  5742.340000</td>\n",
        "      <td>    1.047100</td>\n",
        "      <td>    0.086600</td>\n",
        "      <td>    0.951100</td>\n",
        "    </tr>\n",
        "    <tr>\n",
        "      <th>50%</th>\n",
        "      <td>  7475.570000</td>\n",
        "      <td>  7392.740000</td>\n",
        "      <td>    1.434500</td>\n",
        "      <td>    0.235100</td>\n",
        "      <td>    1.224200</td>\n",
        "    </tr>\n",
        "    <tr>\n",
        "      <th>75%</th>\n",
        "      <td>  8818.880000</td>\n",
        "      <td>  8964.080000</td>\n",
        "      <td>    1.648200</td>\n",
        "      <td>    0.325300</td>\n",
        "      <td>    1.398900</td>\n",
        "    </tr>\n",
        "    <tr>\n",
        "      <th>max</th>\n",
        "      <td> 11902.400000</td>\n",
        "      <td> 11739.900000</td>\n",
        "      <td>    2.578300</td>\n",
        "      <td>    1.518100</td>\n",
        "      <td>    7.153000</td>\n",
        "    </tr>\n",
        "  </tbody>\n",
        "</table>\n",
        "</div>"
       ],
       "metadata": {},
       "output_type": "pyout",
       "prompt_number": 7,
       "text": [
        "            x_image       y_image      g-i_iso      r-i_iso      g-r_iso\n",
        "count   2373.000000   2373.000000  2373.000000  2373.000000  2373.000000\n",
        "mean    7479.150700   7349.826755     1.320496     0.173442     1.147055\n",
        "std     1927.508982   2103.665721     0.434924     0.349391     0.441805\n",
        "min     3071.970000   2943.380000    -0.677800    -5.408700    -1.732600\n",
        "25%     6238.200000   5742.340000     1.047100     0.086600     0.951100\n",
        "50%     7475.570000   7392.740000     1.434500     0.235100     1.224200\n",
        "75%     8818.880000   8964.080000     1.648200     0.325300     1.398900\n",
        "max    11902.400000  11739.900000     2.578300     1.518100     7.153000"
       ]
      }
     ],
     "prompt_number": 7
    },
    {
     "cell_type": "code",
     "collapsed": false,
     "input": [
      "X = np.array(red_cat[var][red_cat[\"phot_mask\"]])"
     ],
     "language": "python",
     "metadata": {},
     "outputs": [],
     "prompt_number": 8
    },
    {
     "cell_type": "code",
     "collapsed": false,
     "input": [
      "X.shape"
     ],
     "language": "python",
     "metadata": {},
     "outputs": [
      {
       "metadata": {},
       "output_type": "pyout",
       "prompt_number": 9,
       "text": [
        "(2373, 5)"
       ]
      }
     ],
     "prompt_number": 9
    },
    {
     "cell_type": "code",
     "collapsed": false,
     "input": [
      "n_components_range = range(1, 10)"
     ],
     "language": "python",
     "metadata": {},
     "outputs": [],
     "prompt_number": 10
    },
    {
     "cell_type": "code",
     "collapsed": false,
     "input": [
      "cv_type = \"full\" # we can try the rest later [\"spherical\", \"tied\", \"diag\", \"full\"]  "
     ],
     "language": "python",
     "metadata": {},
     "outputs": [],
     "prompt_number": 11
    },
    {
     "cell_type": "code",
     "collapsed": false,
     "input": [
      "bic = []\n",
      "lowest_bic = np.infty \n",
      "for n_components in n_components_range:\n",
      "    gmm = GMM(n_components=n_components, covariance_type=cv_type)\n",
      "    gmm.fit(X)\n",
      "    bic.append(gmm.bic(X))\n",
      "    if bic[-1] < lowest_bic:\n",
      "            lowest_bic = bic[-1]\n",
      "            best_gmm = gmm\n",
      "\n",
      "bic = np.array(bic)"
     ],
     "language": "python",
     "metadata": {},
     "outputs": [],
     "prompt_number": 12
    },
    {
     "cell_type": "code",
     "collapsed": false,
     "input": [
      "X.shape"
     ],
     "language": "python",
     "metadata": {},
     "outputs": [
      {
       "metadata": {},
       "output_type": "pyout",
       "prompt_number": 15,
       "text": [
        "(2373, 5)"
       ]
      }
     ],
     "prompt_number": 15
    },
    {
     "cell_type": "code",
     "collapsed": false,
     "input": [
      "bic = np.array(bic)\n",
      "color_iter = itertools.cycle(['k', 'r', 'g', 'b', 'c', 'm', 'y'])\n",
      "clf = best_gmm"
     ],
     "language": "python",
     "metadata": {},
     "outputs": [],
     "prompt_number": 16
    },
    {
     "cell_type": "code",
     "collapsed": false,
     "input": [
      "clf.predict(X)"
     ],
     "language": "python",
     "metadata": {},
     "outputs": [
      {
       "metadata": {},
       "output_type": "pyout",
       "prompt_number": 17,
       "text": [
        "array([0, 1, 1, ..., 5, 5, 5])"
       ]
      }
     ],
     "prompt_number": 17
    },
    {
     "cell_type": "code",
     "collapsed": false,
     "input": [
      "clf.means_ # looks promising ..."
     ],
     "language": "python",
     "metadata": {},
     "outputs": [
      {
       "metadata": {},
       "output_type": "pyout",
       "prompt_number": 18,
       "text": [
        "array([[  9.80676070e+03,   5.94500995e+03,   1.11278741e+00,\n",
        "          1.69147395e-01,   9.43640011e-01],\n",
        "       [  5.82606583e+03,   6.96398562e+03,   1.15215202e+00,\n",
        "          1.55956575e-01,   9.96195440e-01],\n",
        "       [  7.11678519e+03,   7.77946790e+03,   1.66545570e+00,\n",
        "          2.50228426e-01,   1.41522727e+00],\n",
        "       [  7.29147074e+03,   7.10618727e+03,   7.53955663e-01,\n",
        "         -4.45726988e-01,   1.19968265e+00],\n",
        "       [  8.11582831e+03,   5.97110432e+03,   1.58656838e+00,\n",
        "          2.90531652e-01,   1.29603673e+00],\n",
        "       [  8.40473740e+03,   9.95774877e+03,   1.23156723e+00,\n",
        "          1.69530419e-01,   1.06203681e+00]])"
       ]
      }
     ],
     "prompt_number": 18
    },
    {
     "cell_type": "code",
     "collapsed": false,
     "input": [
      "z_cat[\"label\"] = Y_ \n",
      "mask = Y_ == 1 "
     ],
     "language": "python",
     "metadata": {},
     "outputs": [
      {
       "ename": "NameError",
       "evalue": "name 'Y_' is not defined",
       "output_type": "pyerr",
       "traceback": [
        "\u001b[0;31m---------------------------------------------------------------------------\u001b[0m\n\u001b[0;31mNameError\u001b[0m                                 Traceback (most recent call last)",
        "\u001b[0;32m<ipython-input-19-451f08f3effb>\u001b[0m in \u001b[0;36m<module>\u001b[0;34m()\u001b[0m\n\u001b[0;32m----> 1\u001b[0;31m \u001b[0mz_cat\u001b[0m\u001b[0;34m[\u001b[0m\u001b[0;34m\"label\"\u001b[0m\u001b[0;34m]\u001b[0m \u001b[0;34m=\u001b[0m \u001b[0mY_\u001b[0m\u001b[0;34m\u001b[0m\u001b[0m\n\u001b[0m\u001b[1;32m      2\u001b[0m \u001b[0mmask\u001b[0m \u001b[0;34m=\u001b[0m \u001b[0mY_\u001b[0m \u001b[0;34m==\u001b[0m \u001b[0;36m1\u001b[0m\u001b[0;34m\u001b[0m\u001b[0m\n",
        "\u001b[0;31mNameError\u001b[0m: name 'Y_' is not defined"
       ]
      }
     ],
     "prompt_number": 19
    },
    {
     "cell_type": "code",
     "collapsed": false,
     "input": [
      "plt.plot(z_cat[\"x_image\"][mask], z_cat[\"y_image\"][mask], 'r.')\n",
      "plt.plot(z_cat[\"x_image\"][~mask], z_cat[\"y_image\"][~mask], 'b.')"
     ],
     "language": "python",
     "metadata": {},
     "outputs": []
    },
    {
     "cell_type": "code",
     "collapsed": false,
     "input": [
      "\n",
      "plt.plot(range(1, n_components_range[-1]), bic, 'ro', alpha=1)\n",
      "plt.ylabel(\"BIC\")\n",
      "plt.xlabel(\"number of clusters\")\n",
      "plt.title(\"BIC of GMM using 2 variables\")\n",
      "\n"
     ],
     "language": "python",
     "metadata": {},
     "outputs": []
    },
    {
     "cell_type": "code",
     "collapsed": false,
     "input": [
      "# Plot the winner\n",
      "splot = plt.subplot(1, 1, 1)\n",
      "for i, (mean, covar, color) in enumerate(zip(clf.means_, clf.covars_,\n",
      "                                             color_iter)):\n",
      "    v, w = linalg.eigh(covar)  # not sure why the eigenvectors blew up ... \n",
      "    if not np.any(Y_ == i):\n",
      "        continue\n",
      "    plt.scatter(X[Y_ == i, 0], X[Y_ == i, 1], 2, color=color)\n",
      "\n",
      "    # Plot an ellipse to show the Gaussian component\n",
      "    angle = np.arctan2(w[0][1], w[0][0])\n",
      "    angle = 180 * angle / np.pi  # convert to degrees\n",
      "    #v *= 4\n",
      "    ell = mpl.patches.Ellipse(mean, v[0], v[1], 180 + angle, color=color, alpha=.2)\n",
      "    ell.set_clip_box(splot.bbox)\n",
      "    ell.set_alpha(.9)\n",
      "    #splot.add_artist(ell)"
     ],
     "language": "python",
     "metadata": {},
     "outputs": []
    },
    {
     "cell_type": "code",
     "collapsed": false,
     "input": [
      "v[1]"
     ],
     "language": "python",
     "metadata": {},
     "outputs": []
    },
    {
     "cell_type": "code",
     "collapsed": false,
     "input": [
      "?linalg.eigh() "
     ],
     "language": "python",
     "metadata": {},
     "outputs": []
    },
    {
     "cell_type": "code",
     "collapsed": false,
     "input": [],
     "language": "python",
     "metadata": {},
     "outputs": []
    }
   ],
   "metadata": {}
  }
 ]
}