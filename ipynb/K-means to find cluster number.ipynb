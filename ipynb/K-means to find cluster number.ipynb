{
 "metadata": {
  "name": "",
  "signature": "sha256:99e4824d5a2b409027879bf79e4930db90bde2e0d8c7c2dacb0e1645499ded12"
 },
 "nbformat": 3,
 "nbformat_minor": 0,
 "worksheets": [
  {
   "cells": [
    {
     "cell_type": "code",
     "collapsed": false,
     "input": [
      "%autosave 60\n",
      "%matplotlib inline"
     ],
     "language": "python",
     "metadata": {},
     "outputs": [
      {
       "javascript": [
        "IPython.notebook.set_autosave_interval(60000)"
       ],
       "metadata": {},
       "output_type": "display_data"
      },
      {
       "output_type": "stream",
       "stream": "stdout",
       "text": [
        "Autosaving every 60 seconds\n"
       ]
      }
     ],
     "prompt_number": 1
    },
    {
     "cell_type": "code",
     "collapsed": false,
     "input": [
      "import pandas as pd\n",
      "import h5py\n",
      "import seaborn as sns\n",
      "import statsmodels.nonparametric.kernel_density as sm\n",
      "from sklearn.cluster import Kmeans"
     ],
     "language": "python",
     "metadata": {},
     "outputs": [
      {
       "ename": "ImportError",
       "evalue": "cannot import name Kmeans",
       "output_type": "pyerr",
       "traceback": [
        "\u001b[0;31m---------------------------------------------------------------------------\u001b[0m\n\u001b[0;31mImportError\u001b[0m                               Traceback (most recent call last)",
        "\u001b[0;32m<ipython-input-8-4606531905ee>\u001b[0m in \u001b[0;36m<module>\u001b[0;34m()\u001b[0m\n\u001b[1;32m      3\u001b[0m \u001b[0;32mimport\u001b[0m \u001b[0mseaborn\u001b[0m \u001b[0;32mas\u001b[0m \u001b[0msns\u001b[0m\u001b[0;34m\u001b[0m\u001b[0m\n\u001b[1;32m      4\u001b[0m \u001b[0;32mimport\u001b[0m \u001b[0mstatsmodels\u001b[0m\u001b[0;34m.\u001b[0m\u001b[0mnonparametric\u001b[0m\u001b[0;34m.\u001b[0m\u001b[0mkernel_density\u001b[0m \u001b[0;32mas\u001b[0m \u001b[0msm\u001b[0m\u001b[0;34m\u001b[0m\u001b[0m\n\u001b[0;32m----> 5\u001b[0;31m \u001b[0;32mfrom\u001b[0m \u001b[0msklearn\u001b[0m\u001b[0;34m.\u001b[0m\u001b[0mcluster\u001b[0m \u001b[0;32mimport\u001b[0m \u001b[0mKmeans\u001b[0m\u001b[0;34m\u001b[0m\u001b[0m\n\u001b[0m",
        "\u001b[0;31mImportError\u001b[0m: cannot import name Kmeans"
       ]
      }
     ],
     "prompt_number": 8
    },
    {
     "cell_type": "markdown",
     "metadata": {},
     "source": [
      "Note of usage: \n",
      "Kmeans is sensitive to initial starting point - so several random starting cluster centers are chosen to avoid them being trapped in local minima"
     ]
    },
    {
     "cell_type": "code",
     "collapsed": false,
     "input": [
      "z_selected = pd.read_hdf(\"CizaClusterMembers.h5\", \"RedshiftSelection\")\n",
      "redSeq_selected = pd.read_hdf(\"CizaClusterMembers.h5\", \"RedsequenceSelection\")"
     ],
     "language": "python",
     "metadata": {},
     "outputs": [],
     "prompt_number": 3
    },
    {
     "cell_type": "markdown",
     "metadata": {},
     "source": [
      "thinking of mapping the cosmological redshift to physical distances either in the form of ...\n",
      "* lookback time - this converts directly to light-distance\n",
      "* velocity dispersion"
     ]
    },
    {
     "cell_type": "markdown",
     "metadata": {},
     "source": [
      "Let's do some cool functional programming \n",
      "* try 1 to 5 clusters "
     ]
    },
    {
     "cell_type": "code",
     "collapsed": false,
     "input": [
      "k = 6"
     ],
     "language": "python",
     "metadata": {},
     "outputs": [],
     "prompt_number": 5
    },
    {
     "cell_type": "code",
     "collapsed": false,
     "input": [
      "kmeans_n_clus = \\\n",
      "    [Kmeans(n_clusters=n, init=\"k-means++\", max_iter=int(1e3),\n",
      "     n_init=int(1e2)) for i in range(k)]\n"
     ],
     "language": "python",
     "metadata": {},
     "outputs": [
      {
       "ename": "NameError",
       "evalue": "name 'Kmeans' is not defined",
       "output_type": "pyerr",
       "traceback": [
        "\u001b[0;31m---------------------------------------------------------------------------\u001b[0m\n\u001b[0;31mNameError\u001b[0m                                 Traceback (most recent call last)",
        "\u001b[0;32m<ipython-input-7-5c3588fa02ae>\u001b[0m in \u001b[0;36m<module>\u001b[0;34m()\u001b[0m\n\u001b[1;32m      1\u001b[0m kmeans_n_clus =     [Kmeans(n_clusters=n, init=\"k-means++\", max_iter=int(1e3),\n\u001b[0;32m----> 2\u001b[0;31m      n_init=int(1e2)) for i in range(k)]\n\u001b[0m",
        "\u001b[0;31mNameError\u001b[0m: name 'Kmeans' is not defined"
       ]
      }
     ],
     "prompt_number": 7
    },
    {
     "cell_type": "code",
     "collapsed": false,
     "input": [],
     "language": "python",
     "metadata": {},
     "outputs": []
    }
   ],
   "metadata": {}
  }
 ]
}